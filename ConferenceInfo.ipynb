{
 "cells": [
  {
   "cell_type": "code",
   "execution_count": 2,
   "id": "72d50572",
   "metadata": {},
   "outputs": [],
   "source": [
    "import pandas\n",
    "import sklearn\n",
    "import pandas\n",
    "import numpy\n",
    "from sklearn.ensemble import RandomForestRegressor\n",
    "from sklearn.datasets import make_regression\n",
    "from sklearn.model_selection import train_test_split\n",
    "from sklearn import metrics\n",
    "from sklearn.preprocessing import StandardScaler\n",
    "data = pandas.read_csv('PostBasketballStats.csv')\n",
    "\n",
    "# drops rows with any missing values\n",
    "data.dropna(inplace=True)\n",
    "\n",
    "# sets the columns used as predictors\n",
    "predictors = ['MIN%', 'PRPG!', 'D-PRPG', 'BPM', 'OBPM', 'DBPM', 'ORTG', 'USG', 'EFG', 'TS', 'OR', 'DR', 'AST', 'TO', 'A/TO', 'BLK', 'STL', 'FTR', 'FC/40', 'CLOSE 2 %', 'FAR 2 %', 'FT %', '2P %', '3PR', '3P/100', '3P %', 'AST.1', 'REB', 'PTS', 'Dunk_Percentage']\n",
    "\n",
    "# sets the ranking as the column to be predicted\n",
    "target = 'RK'\n",
    "\n",
    "# split the data into training data and testing data\n",
    "train_data, test_data, train_sln, test_sln = train_test_split(data[predictors], data[target], test_size = 0.2, random_state=0)"
   ]
  },
  {
   "cell_type": "code",
   "execution_count": 3,
   "id": "183453c9",
   "metadata": {},
   "outputs": [],
   "source": [
    "# Normalize Data\n",
    "scaler = StandardScaler()\n",
    "scaler.fit(train_data)\n",
    "train_data = scaler.transform(train_data)\n",
    "test_data = scaler.transform(test_data)"
   ]
  },
  {
   "cell_type": "code",
   "execution_count": 4,
   "id": "00d0e06e",
   "metadata": {},
   "outputs": [
    {
     "data": {
      "text/html": [
       "<div>\n",
       "<style scoped>\n",
       "    .dataframe tbody tr th:only-of-type {\n",
       "        vertical-align: middle;\n",
       "    }\n",
       "\n",
       "    .dataframe tbody tr th {\n",
       "        vertical-align: top;\n",
       "    }\n",
       "\n",
       "    .dataframe thead th {\n",
       "        text-align: right;\n",
       "    }\n",
       "</style>\n",
       "<table border=\"1\" class=\"dataframe\">\n",
       "  <thead>\n",
       "    <tr style=\"text-align: right;\">\n",
       "      <th></th>\n",
       "      <th>Unnamed: 0</th>\n",
       "      <th>RK</th>\n",
       "      <th>Role</th>\n",
       "      <th>Height</th>\n",
       "      <th>PLAYER</th>\n",
       "      <th>TEAM</th>\n",
       "      <th>CONF</th>\n",
       "      <th>ROLE</th>\n",
       "      <th>MIN%</th>\n",
       "      <th>PRPG!</th>\n",
       "      <th>...</th>\n",
       "      <th>Close2_made</th>\n",
       "      <th>Close2_attempted</th>\n",
       "      <th>Far2_made</th>\n",
       "      <th>Far2_attempted</th>\n",
       "      <th>FT_made</th>\n",
       "      <th>FT_attempted</th>\n",
       "      <th>2P_made</th>\n",
       "      <th>2P_attempted</th>\n",
       "      <th>3P_made</th>\n",
       "      <th>3P_attempted</th>\n",
       "    </tr>\n",
       "  </thead>\n",
       "  <tbody>\n",
       "    <tr>\n",
       "      <th>0</th>\n",
       "      <td>0</td>\n",
       "      <td>1</td>\n",
       "      <td>Sr</td>\n",
       "      <td>83</td>\n",
       "      <td>Luka Garza</td>\n",
       "      <td>Iowa</td>\n",
       "      <td>B10</td>\n",
       "      <td>PF/C</td>\n",
       "      <td>78.8</td>\n",
       "      <td>7.0</td>\n",
       "      <td>...</td>\n",
       "      <td>176</td>\n",
       "      <td>256</td>\n",
       "      <td>60</td>\n",
       "      <td>152</td>\n",
       "      <td>141</td>\n",
       "      <td>199</td>\n",
       "      <td>237</td>\n",
       "      <td>408</td>\n",
       "      <td>44</td>\n",
       "      <td>100</td>\n",
       "    </tr>\n",
       "    <tr>\n",
       "      <th>1</th>\n",
       "      <td>1</td>\n",
       "      <td>2</td>\n",
       "      <td>So</td>\n",
       "      <td>73</td>\n",
       "      <td>Max Abmas</td>\n",
       "      <td>Oral Roberts</td>\n",
       "      <td>Sum</td>\n",
       "      <td>Scoring PG</td>\n",
       "      <td>95.8</td>\n",
       "      <td>6.6</td>\n",
       "      <td>...</td>\n",
       "      <td>65</td>\n",
       "      <td>113</td>\n",
       "      <td>54</td>\n",
       "      <td>118</td>\n",
       "      <td>135</td>\n",
       "      <td>151</td>\n",
       "      <td>119</td>\n",
       "      <td>231</td>\n",
       "      <td>97</td>\n",
       "      <td>224</td>\n",
       "    </tr>\n",
       "    <tr>\n",
       "      <th>2</th>\n",
       "      <td>2</td>\n",
       "      <td>3</td>\n",
       "      <td>Jr</td>\n",
       "      <td>71</td>\n",
       "      <td>Kendric Davis</td>\n",
       "      <td>SMU</td>\n",
       "      <td>Amer</td>\n",
       "      <td>Pure PG</td>\n",
       "      <td>86.8</td>\n",
       "      <td>6.5</td>\n",
       "      <td>...</td>\n",
       "      <td>56</td>\n",
       "      <td>84</td>\n",
       "      <td>33</td>\n",
       "      <td>86</td>\n",
       "      <td>70</td>\n",
       "      <td>84</td>\n",
       "      <td>89</td>\n",
       "      <td>170</td>\n",
       "      <td>25</td>\n",
       "      <td>67</td>\n",
       "    </tr>\n",
       "    <tr>\n",
       "      <th>3</th>\n",
       "      <td>3</td>\n",
       "      <td>4</td>\n",
       "      <td>Fr</td>\n",
       "      <td>76</td>\n",
       "      <td>Cameron Thomas</td>\n",
       "      <td>LSU</td>\n",
       "      <td>SEC</td>\n",
       "      <td>Wing G</td>\n",
       "      <td>84.6</td>\n",
       "      <td>6.0</td>\n",
       "      <td>...</td>\n",
       "      <td>52</td>\n",
       "      <td>81</td>\n",
       "      <td>83</td>\n",
       "      <td>210</td>\n",
       "      <td>194</td>\n",
       "      <td>220</td>\n",
       "      <td>135</td>\n",
       "      <td>291</td>\n",
       "      <td>68</td>\n",
       "      <td>209</td>\n",
       "    </tr>\n",
       "    <tr>\n",
       "      <th>4</th>\n",
       "      <td>4</td>\n",
       "      <td>5</td>\n",
       "      <td>So</td>\n",
       "      <td>82</td>\n",
       "      <td>Drew Timme</td>\n",
       "      <td>Gonzaga</td>\n",
       "      <td>WCC</td>\n",
       "      <td>PF/C</td>\n",
       "      <td>70.1</td>\n",
       "      <td>5.9</td>\n",
       "      <td>...</td>\n",
       "      <td>192</td>\n",
       "      <td>247</td>\n",
       "      <td>39</td>\n",
       "      <td>93</td>\n",
       "      <td>128</td>\n",
       "      <td>184</td>\n",
       "      <td>231</td>\n",
       "      <td>340</td>\n",
       "      <td>6</td>\n",
       "      <td>22</td>\n",
       "    </tr>\n",
       "    <tr>\n",
       "      <th>...</th>\n",
       "      <td>...</td>\n",
       "      <td>...</td>\n",
       "      <td>...</td>\n",
       "      <td>...</td>\n",
       "      <td>...</td>\n",
       "      <td>...</td>\n",
       "      <td>...</td>\n",
       "      <td>...</td>\n",
       "      <td>...</td>\n",
       "      <td>...</td>\n",
       "      <td>...</td>\n",
       "      <td>...</td>\n",
       "      <td>...</td>\n",
       "      <td>...</td>\n",
       "      <td>...</td>\n",
       "      <td>...</td>\n",
       "      <td>...</td>\n",
       "      <td>...</td>\n",
       "      <td>...</td>\n",
       "      <td>...</td>\n",
       "      <td>...</td>\n",
       "    </tr>\n",
       "    <tr>\n",
       "      <th>1984</th>\n",
       "      <td>1984</td>\n",
       "      <td>1985</td>\n",
       "      <td>Jr</td>\n",
       "      <td>80</td>\n",
       "      <td>Anthony Crump</td>\n",
       "      <td>Northern Illinois</td>\n",
       "      <td>MAC</td>\n",
       "      <td>Wing F</td>\n",
       "      <td>50.1</td>\n",
       "      <td>-1.8</td>\n",
       "      <td>...</td>\n",
       "      <td>18</td>\n",
       "      <td>47</td>\n",
       "      <td>8</td>\n",
       "      <td>27</td>\n",
       "      <td>8</td>\n",
       "      <td>23</td>\n",
       "      <td>26</td>\n",
       "      <td>74</td>\n",
       "      <td>5</td>\n",
       "      <td>16</td>\n",
       "    </tr>\n",
       "    <tr>\n",
       "      <th>1985</th>\n",
       "      <td>1985</td>\n",
       "      <td>1986</td>\n",
       "      <td>Fr</td>\n",
       "      <td>82</td>\n",
       "      <td>Kenan Sarvan</td>\n",
       "      <td>Coppin St.</td>\n",
       "      <td>MEAC</td>\n",
       "      <td>Stretch 4</td>\n",
       "      <td>51.3</td>\n",
       "      <td>-1.8</td>\n",
       "      <td>...</td>\n",
       "      <td>7</td>\n",
       "      <td>10</td>\n",
       "      <td>1</td>\n",
       "      <td>9</td>\n",
       "      <td>7</td>\n",
       "      <td>11</td>\n",
       "      <td>8</td>\n",
       "      <td>19</td>\n",
       "      <td>29</td>\n",
       "      <td>107</td>\n",
       "    </tr>\n",
       "    <tr>\n",
       "      <th>1986</th>\n",
       "      <td>1986</td>\n",
       "      <td>1987</td>\n",
       "      <td>So</td>\n",
       "      <td>73</td>\n",
       "      <td>Tre Wood</td>\n",
       "      <td>LIU Brooklyn</td>\n",
       "      <td>NEC</td>\n",
       "      <td>Combo G</td>\n",
       "      <td>48.1</td>\n",
       "      <td>-1.9</td>\n",
       "      <td>...</td>\n",
       "      <td>23</td>\n",
       "      <td>53</td>\n",
       "      <td>6</td>\n",
       "      <td>29</td>\n",
       "      <td>9</td>\n",
       "      <td>19</td>\n",
       "      <td>29</td>\n",
       "      <td>82</td>\n",
       "      <td>1</td>\n",
       "      <td>21</td>\n",
       "    </tr>\n",
       "    <tr>\n",
       "      <th>1987</th>\n",
       "      <td>1987</td>\n",
       "      <td>1988</td>\n",
       "      <td>Sr</td>\n",
       "      <td>78</td>\n",
       "      <td>Alexander Perry</td>\n",
       "      <td>Mississippi Valley S</td>\n",
       "      <td>SWAC</td>\n",
       "      <td>Wing G</td>\n",
       "      <td>50.5</td>\n",
       "      <td>-2.0</td>\n",
       "      <td>...</td>\n",
       "      <td>8</td>\n",
       "      <td>25</td>\n",
       "      <td>2</td>\n",
       "      <td>26</td>\n",
       "      <td>20</td>\n",
       "      <td>38</td>\n",
       "      <td>11</td>\n",
       "      <td>1</td>\n",
       "      <td>14</td>\n",
       "      <td>53</td>\n",
       "    </tr>\n",
       "    <tr>\n",
       "      <th>1988</th>\n",
       "      <td>1988</td>\n",
       "      <td>1989</td>\n",
       "      <td>Fr</td>\n",
       "      <td>80</td>\n",
       "      <td>Terence Porter Jr.</td>\n",
       "      <td>Charleston Southern</td>\n",
       "      <td>BSth</td>\n",
       "      <td>Wing F</td>\n",
       "      <td>49.2</td>\n",
       "      <td>-2.1</td>\n",
       "      <td>...</td>\n",
       "      <td>16</td>\n",
       "      <td>30</td>\n",
       "      <td>0</td>\n",
       "      <td>13</td>\n",
       "      <td>10</td>\n",
       "      <td>22</td>\n",
       "      <td>16</td>\n",
       "      <td>43</td>\n",
       "      <td>4</td>\n",
       "      <td>21</td>\n",
       "    </tr>\n",
       "  </tbody>\n",
       "</table>\n",
       "<p>1989 rows × 51 columns</p>\n",
       "</div>"
      ],
      "text/plain": [
       "      Unnamed: 0    RK Role  Height              PLAYER                  TEAM  \\\n",
       "0              0     1   Sr      83          Luka Garza                  Iowa   \n",
       "1              1     2   So      73           Max Abmas          Oral Roberts   \n",
       "2              2     3   Jr      71       Kendric Davis                   SMU   \n",
       "3              3     4   Fr      76      Cameron Thomas                   LSU   \n",
       "4              4     5   So      82          Drew Timme               Gonzaga   \n",
       "...          ...   ...  ...     ...                 ...                   ...   \n",
       "1984        1984  1985   Jr      80       Anthony Crump     Northern Illinois   \n",
       "1985        1985  1986   Fr      82        Kenan Sarvan            Coppin St.   \n",
       "1986        1986  1987   So      73            Tre Wood          LIU Brooklyn   \n",
       "1987        1987  1988   Sr      78     Alexander Perry  Mississippi Valley S   \n",
       "1988        1988  1989   Fr      80  Terence Porter Jr.   Charleston Southern   \n",
       "\n",
       "      CONF        ROLE  MIN%  PRPG!  ...  Close2_made  Close2_attempted  \\\n",
       "0      B10        PF/C  78.8    7.0  ...          176               256   \n",
       "1      Sum  Scoring PG  95.8    6.6  ...           65               113   \n",
       "2     Amer     Pure PG  86.8    6.5  ...           56                84   \n",
       "3      SEC      Wing G  84.6    6.0  ...           52                81   \n",
       "4      WCC        PF/C  70.1    5.9  ...          192               247   \n",
       "...    ...         ...   ...    ...  ...          ...               ...   \n",
       "1984   MAC      Wing F  50.1   -1.8  ...           18                47   \n",
       "1985  MEAC   Stretch 4  51.3   -1.8  ...            7                10   \n",
       "1986   NEC     Combo G  48.1   -1.9  ...           23                53   \n",
       "1987  SWAC      Wing G  50.5   -2.0  ...            8                25   \n",
       "1988  BSth      Wing F  49.2   -2.1  ...           16                30   \n",
       "\n",
       "      Far2_made  Far2_attempted  FT_made  FT_attempted  2P_made  2P_attempted  \\\n",
       "0            60             152      141           199      237           408   \n",
       "1            54             118      135           151      119           231   \n",
       "2            33              86       70            84       89           170   \n",
       "3            83             210      194           220      135           291   \n",
       "4            39              93      128           184      231           340   \n",
       "...         ...             ...      ...           ...      ...           ...   \n",
       "1984          8              27        8            23       26            74   \n",
       "1985          1               9        7            11        8            19   \n",
       "1986          6              29        9            19       29            82   \n",
       "1987          2              26       20            38       11             1   \n",
       "1988          0              13       10            22       16            43   \n",
       "\n",
       "      3P_made  3P_attempted  \n",
       "0          44           100  \n",
       "1          97           224  \n",
       "2          25            67  \n",
       "3          68           209  \n",
       "4           6            22  \n",
       "...       ...           ...  \n",
       "1984        5            16  \n",
       "1985       29           107  \n",
       "1986        1            21  \n",
       "1987       14            53  \n",
       "1988        4            21  \n",
       "\n",
       "[1989 rows x 51 columns]"
      ]
     },
     "execution_count": 4,
     "metadata": {},
     "output_type": "execute_result"
    }
   ],
   "source": [
    "data"
   ]
  },
  {
   "cell_type": "code",
   "execution_count": 4,
   "id": "d30aff8d",
   "metadata": {
    "scrolled": false
   },
   "outputs": [
    {
     "data": {
      "text/plain": [
       "<AxesSubplot:title={'center':'Average Player Rank by Conference'}, xlabel='CONF'>"
      ]
     },
     "execution_count": 4,
     "metadata": {},
     "output_type": "execute_result"
    },
    {
     "data": {
      "image/png": "[encoded data removed]",
      "text/plain": [
       "<Figure size 720x360 with 1 Axes>"
      ]
     },
     "metadata": {
      "needs_background": "light"
     },
     "output_type": "display_data"
    }
   ],
   "source": [
    "#Which Conference has the highest ranked players\n",
    "avgrank = data.groupby(\"CONF\").RK.mean()\n",
    "avgrank.plot(kind=\"bar\",title=\"Average Player Rank by Conference\",figsize=(10,5),color=[\"green\",\"green\",\"blue\",\"blue\",\"blue\",\"green\",\"green\",\"green\",\"blue\",\"blue\",\"blue\",\"blue\",\"blue\",\"blue\",\"blue\",\"blue\",\"blue\",\"blue\",\"blue\",\"blue\",\"blue\",\"green\",\"blue\",\"blue\",\"green\",\"green\",\"blue\",\"blue\",\"blue\",\"blue\"])"
   ]
  },
  {
   "cell_type": "code",
   "execution_count": 5,
   "id": "f5fddcf9",
   "metadata": {},
   "outputs": [
    {
     "data": {
      "text/plain": [
       "<AxesSubplot:title={'center':'Free Throw Attempts by Conference'}, xlabel='CONF'>"
      ]
     },
     "execution_count": 5,
     "metadata": {},
     "output_type": "execute_result"
    },
    {
     "data": {
      "image/png": "[encoded data removed]",
      "text/plain": [
       "<Figure size 720x360 with 1 Axes>"
      ]
     },
     "metadata": {
      "needs_background": "light"
     },
     "output_type": "display_data"
    }
   ],
   "source": [
    "#Which conference shoots the most Free Throws\n",
    "Ftry = data.groupby(\"CONF\").FT_attempted.sum()\n",
    "Ftry.plot(kind=\"bar\",title=\"Free Throw Attempts by Conference\",figsize=(10,5))"
   ]
  },
  {
   "cell_type": "code",
   "execution_count": 6,
   "id": "326bf5e6",
   "metadata": {},
   "outputs": [
    {
     "data": {
      "text/plain": [
       "<AxesSubplot:title={'center':'Free Throws Made by Conference'}, xlabel='CONF'>"
      ]
     },
     "execution_count": 6,
     "metadata": {},
     "output_type": "execute_result"
    },
    {
     "data": {
      "image/png": "[encoded data removed]",
      "text/plain": [
       "<Figure size 720x360 with 1 Axes>"
      ]
     },
     "metadata": {
      "needs_background": "light"
     },
     "output_type": "display_data"
    }
   ],
   "source": [
    "#which conference makes the most free throws\n",
    "Fmake = data.groupby(\"CONF\").FT_made.sum()\n",
    "Fmake.plot(kind=\"bar\",title=\"Free Throws Made by Conference\",figsize=(10,5))"
   ]
  },
  {
   "cell_type": "code",
   "execution_count": 7,
   "id": "38580bb2",
   "metadata": {},
   "outputs": [
    {
     "data": {
      "text/plain": [
       "<AxesSubplot:title={'center':'Conference with the highest accuracy for Free Throws'}, xlabel='CONF'>"
      ]
     },
     "execution_count": 7,
     "metadata": {},
     "output_type": "execute_result"
    },
    {
     "data": {
      "image/png": "[encoded data removed]",
      "text/plain": [
       "<Figure size 432x288 with 1 Axes>"
      ]
     },
     "metadata": {
      "needs_background": "light"
     },
     "output_type": "display_data"
    }
   ],
   "source": [
    "#Which conference has the highest free throw percentage\n",
    "#ft = data.FT_made/data.FT_attempted\n",
    "data['ftpercentage']=data.FT_made / data.FT_attempted \n",
    "ftrank = data.groupby(\"CONF\").ftpercentage.mean()\n",
    "ftrank.plot(kind=\"bar\",title=\"Conference with the highest accuracy for Free Throws\",color=[\"blue\",\"blue\",\"blue\",\"blue\",\"blue\",\"green\",\"blue\",\"blue\",\"blue\",\"blue\",\"blue\",\"blue\",\"blue\",\"blue\",\"blue\",\"blue\",\"blue\",\"blue\",\"blue\",\"blue\",\"blue\",\"blue\",\"blue\",\"blue\",\"blue\",\"blue\"])"
   ]
  },
  {
   "cell_type": "code",
   "execution_count": 8,
   "id": "7afc344e",
   "metadata": {},
   "outputs": [
    {
     "data": {
      "text/plain": [
       "<AxesSubplot:title={'center':'Average Player Rank by Role'}, xlabel='ROLE'>"
      ]
     },
     "execution_count": 8,
     "metadata": {},
     "output_type": "execute_result"
    },
    {
     "data": {
      "image/png": "[encoded data removed]",
      "text/plain": [
       "<Figure size 720x360 with 1 Axes>"
      ]
     },
     "metadata": {
      "needs_background": "light"
     },
     "output_type": "display_data"
    }
   ],
   "source": [
    "#which position has the highest ranked players\n",
    "avgrank = data.groupby(\"ROLE\").RK.mean()\n",
    "avgrank.plot(kind=\"bar\",title=\"Average Player Rank by Role\",figsize=(10,5),color=[\"blue\",\"blue\",\"blue\",\"green\",\"blue\",\"blue\",\"blue\",\"blue\"])"
   ]
  },
  {
   "cell_type": "code",
   "execution_count": 9,
   "id": "89e0a960",
   "metadata": {},
   "outputs": [
    {
     "data": {
      "text/plain": [
       "<AxesSubplot:title={'center':'Conference with the most Freshman Players'}, xlabel='CONF'>"
      ]
     },
     "execution_count": 9,
     "metadata": {},
     "output_type": "execute_result"
    },
    {
     "data": {
      "image/png": "[encoded data removed]",
      "text/plain": [
       "<Figure size 432x288 with 1 Axes>"
      ]
     },
     "metadata": {
      "needs_background": "light"
     },
     "output_type": "display_data"
    }
   ],
   "source": [
    "#which conference contains the youngest players\n",
    "freshman = data[data[\"Role\"]==\"Fr\"]\n",
    "confage=freshman.groupby([\"CONF\"]).Role.count()\n",
    "confage.sort_values(inplace=True)\n",
    "confage.plot(kind=\"bar\",title=\"Conference with the most Freshman Players\")"
   ]
  },
  {
   "cell_type": "code",
   "execution_count": 10,
   "id": "5db0f481",
   "metadata": {},
   "outputs": [
    {
     "data": {
      "text/plain": [
       "<AxesSubplot:title={'center':'Best Teams in the Big 10 based on Player Rank'}, xlabel='TEAM'>"
      ]
     },
     "execution_count": 10,
     "metadata": {},
     "output_type": "execute_result"
    },
    {
     "data": {
      "image/png": "[encoded data removed]",
      "text/plain": [
       "<Figure size 432x288 with 1 Axes>"
      ]
     },
     "metadata": {
      "needs_background": "light"
     },
     "output_type": "display_data"
    }
   ],
   "source": [
    "#which teams had the best ranked players in the big10\n",
    "newset = data[data.CONF=='B10']\n",
    "playerrank = newset.groupby(\"TEAM\").RK.mean()\n",
    "playerrank.plot(kind=\"bar\",title=\"Best Teams in the Big 10 based on Player Rank\",color=[\"blue\",\"blue\",\"blue\",\"blue\",\"green\"])"
   ]
  },
  {
   "cell_type": "code",
   "execution_count": 5,
   "id": "32e06105",
   "metadata": {},
   "outputs": [
    {
     "data": {
      "application/vnd.jupyter.widget-view+json": {
       "model_id": "5f2bfb9e467f4a7293f7a8ca2784dd54",
       "version_major": 2,
       "version_minor": 0
      },
      "text/plain": [
       "interactive(children=(Dropdown(description='CONFERENCE', layout=Layout(width='15%'), options=('All', 'A10', 'A…"
      ]
     },
     "metadata": {},
     "output_type": "display_data"
    }
   ],
   "source": [
    "#Conference and Rank\n",
    "from ipywidgets import widgets, interactive, Layout\n",
    "w_team = widgets.Dropdown(\n",
    "    description = 'CONFERENCE',\n",
    "    options = [\"All\"] + sorted(list(set(data.CONF))),  # a sorted list of unique teamIDs plus All\n",
    "    value = \"All\",\n",
    "    style = {\"description_width\": '50px'},\n",
    "    layout = Layout(width=\"15%\")\n",
    ")\n",
    "\n",
    "def view(team):\n",
    "    if team == \"All\":\n",
    "        df_tmp = data\n",
    "    else:\n",
    "        df_tmp = data[data.CONF == team]\n",
    "\n",
    "    title = \"Basketball Stats of {}\".format(team)\n",
    "    df_tmp[[\"RK\"]].plot(kind=\"box\", title=title, grid=True, figsize=(15,7))\n",
    "\n",
    "i = interactive(view, team=w_team)\n",
    "display(i)"
   ]
  },
  {
   "cell_type": "code",
   "execution_count": null,
   "id": "6474694d",
   "metadata": {},
   "outputs": [],
   "source": []
  }
 ],
 "metadata": {
  "kernelspec": {
   "display_name": "Python 3 (ipykernel)",
   "language": "python",
   "name": "python3"
  },
  "language_info": {
   "codemirror_mode": {
    "name": "ipython",
    "version": 3
   },
   "file_extension": ".py",
   "mimetype": "text/x-python",
   "name": "python",
   "nbconvert_exporter": "python",
   "pygments_lexer": "ipython3",
   "version": "3.7.5"
  }
 },
 "nbformat": 4,
 "nbformat_minor": 5
}
